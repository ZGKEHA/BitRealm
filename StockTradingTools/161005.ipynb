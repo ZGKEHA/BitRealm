{
 "metadata": {
  "language_info": {
   "codemirror_mode": {
    "name": "ipython",
    "version": 3
   },
   "file_extension": ".py",
   "mimetype": "text/x-python",
   "name": "python",
   "nbconvert_exporter": "python",
   "pygments_lexer": "ipython3",
   "version": "3.8.5-final"
  },
  "orig_nbformat": 2,
  "kernelspec": {
   "name": "python3",
   "display_name": "Python 3"
  }
 },
 "nbformat": 4,
 "nbformat_minor": 2,
 "cells": [
  {
   "cell_type": "code",
   "execution_count": 47,
   "metadata": {},
   "outputs": [
    {
     "output_type": "stream",
     "name": "stdout",
     "text": [
      "Valid path, the head of file is shown as below\n"
     ]
    },
    {
     "output_type": "execute_result",
     "data": {
      "text/plain": [
       "              日期     收盘     开盘      高      低     涨跌幅\n",
       "0     2020年12月4日  3.412  3.412  3.412  3.412  -0.11%\n",
       "1     2020年12月3日  3.416  3.403  3.416  3.403  -0.08%\n",
       "2     2020年12月2日  3.418  3.393  3.418  3.393   0.13%\n",
       "3     2020年12月1日  3.414  3.393  3.414  3.393   1.68%\n",
       "4    2020年11月30日  3.358  3.355  3.358  3.355  -0.12%\n",
       "..           ...    ...    ...    ...    ...     ...\n",
       "762    2018年1月5日  2.176  2.176  2.176  2.176  -0.09%\n",
       "763    2018年1月4日  2.178  2.178  2.178  2.178   0.51%\n",
       "764    2018年1月3日  2.167  2.167  2.167  2.167   0.74%\n",
       "765    2018年1月2日  2.151  2.151  2.151  2.151   1.22%\n",
       "766    2018年1月1日  2.125  2.125  2.125  2.125   0.00%\n",
       "\n",
       "[767 rows x 6 columns]"
      ],
      "text/html": "<div>\n<style scoped>\n    .dataframe tbody tr th:only-of-type {\n        vertical-align: middle;\n    }\n\n    .dataframe tbody tr th {\n        vertical-align: top;\n    }\n\n    .dataframe thead th {\n        text-align: right;\n    }\n</style>\n<table border=\"1\" class=\"dataframe\">\n  <thead>\n    <tr style=\"text-align: right;\">\n      <th></th>\n      <th>日期</th>\n      <th>收盘</th>\n      <th>开盘</th>\n      <th>高</th>\n      <th>低</th>\n      <th>涨跌幅</th>\n    </tr>\n  </thead>\n  <tbody>\n    <tr>\n      <th>0</th>\n      <td>2020年12月4日</td>\n      <td>3.412</td>\n      <td>3.412</td>\n      <td>3.412</td>\n      <td>3.412</td>\n      <td>-0.11%</td>\n    </tr>\n    <tr>\n      <th>1</th>\n      <td>2020年12月3日</td>\n      <td>3.416</td>\n      <td>3.403</td>\n      <td>3.416</td>\n      <td>3.403</td>\n      <td>-0.08%</td>\n    </tr>\n    <tr>\n      <th>2</th>\n      <td>2020年12月2日</td>\n      <td>3.418</td>\n      <td>3.393</td>\n      <td>3.418</td>\n      <td>3.393</td>\n      <td>0.13%</td>\n    </tr>\n    <tr>\n      <th>3</th>\n      <td>2020年12月1日</td>\n      <td>3.414</td>\n      <td>3.393</td>\n      <td>3.414</td>\n      <td>3.393</td>\n      <td>1.68%</td>\n    </tr>\n    <tr>\n      <th>4</th>\n      <td>2020年11月30日</td>\n      <td>3.358</td>\n      <td>3.355</td>\n      <td>3.358</td>\n      <td>3.355</td>\n      <td>-0.12%</td>\n    </tr>\n    <tr>\n      <th>...</th>\n      <td>...</td>\n      <td>...</td>\n      <td>...</td>\n      <td>...</td>\n      <td>...</td>\n      <td>...</td>\n    </tr>\n    <tr>\n      <th>762</th>\n      <td>2018年1月5日</td>\n      <td>2.176</td>\n      <td>2.176</td>\n      <td>2.176</td>\n      <td>2.176</td>\n      <td>-0.09%</td>\n    </tr>\n    <tr>\n      <th>763</th>\n      <td>2018年1月4日</td>\n      <td>2.178</td>\n      <td>2.178</td>\n      <td>2.178</td>\n      <td>2.178</td>\n      <td>0.51%</td>\n    </tr>\n    <tr>\n      <th>764</th>\n      <td>2018年1月3日</td>\n      <td>2.167</td>\n      <td>2.167</td>\n      <td>2.167</td>\n      <td>2.167</td>\n      <td>0.74%</td>\n    </tr>\n    <tr>\n      <th>765</th>\n      <td>2018年1月2日</td>\n      <td>2.151</td>\n      <td>2.151</td>\n      <td>2.151</td>\n      <td>2.151</td>\n      <td>1.22%</td>\n    </tr>\n    <tr>\n      <th>766</th>\n      <td>2018年1月1日</td>\n      <td>2.125</td>\n      <td>2.125</td>\n      <td>2.125</td>\n      <td>2.125</td>\n      <td>0.00%</td>\n    </tr>\n  </tbody>\n</table>\n<p>767 rows × 6 columns</p>\n</div>"
     },
     "metadata": {},
     "execution_count": 47
    }
   ],
   "source": [
    "import pandas as pd\n",
    "import datetime as dt\n",
    "import numpy as np\n",
    "def input_path():\n",
    "    while True:\n",
    "        try:\n",
    "            csv_path = input('The path of the historical data is:\\t')\n",
    "            data = pd.read_csv(csv_path)\n",
    "            break\n",
    "        except:\n",
    "            print('Invalid path, try again')\n",
    "    print('Valid path, the head of file is shown as below')\n",
    "    return data\n",
    "data = input_path()\n",
    "data"
   ]
  },
  {
   "cell_type": "code",
   "execution_count": 48,
   "metadata": {
    "tags": []
   },
   "outputs": [
    {
     "output_type": "execute_result",
     "data": {
      "text/plain": [
       "              日期     收盘     开盘      高      低     涨跌幅\n",
       "0     2020年12月4日  3.412  3.412  3.412  3.412  -0.11%\n",
       "1     2020年12月3日  3.416  3.403  3.416  3.403  -0.08%\n",
       "2     2020年12月2日  3.418  3.393  3.418  3.393   0.13%\n",
       "3     2020年12月1日  3.414  3.393  3.414  3.393   1.68%\n",
       "4    2020年11月30日  3.358  3.355  3.358  3.355  -0.12%\n",
       "..           ...    ...    ...    ...    ...     ...\n",
       "762    2018年1月5日  2.176  2.176  2.176  2.176  -0.09%\n",
       "763    2018年1月4日  2.178  2.178  2.178  2.178   0.51%\n",
       "764    2018年1月3日  2.167  2.167  2.167  2.167   0.74%\n",
       "765    2018年1月2日  2.151  2.151  2.151  2.151   1.22%\n",
       "766    2018年1月1日  2.125  2.125  2.125  2.125   0.00%\n",
       "\n",
       "[767 rows x 6 columns]"
      ],
      "text/html": "<div>\n<style scoped>\n    .dataframe tbody tr th:only-of-type {\n        vertical-align: middle;\n    }\n\n    .dataframe tbody tr th {\n        vertical-align: top;\n    }\n\n    .dataframe thead th {\n        text-align: right;\n    }\n</style>\n<table border=\"1\" class=\"dataframe\">\n  <thead>\n    <tr style=\"text-align: right;\">\n      <th></th>\n      <th>日期</th>\n      <th>收盘</th>\n      <th>开盘</th>\n      <th>高</th>\n      <th>低</th>\n      <th>涨跌幅</th>\n    </tr>\n  </thead>\n  <tbody>\n    <tr>\n      <th>0</th>\n      <td>2020年12月4日</td>\n      <td>3.412</td>\n      <td>3.412</td>\n      <td>3.412</td>\n      <td>3.412</td>\n      <td>-0.11%</td>\n    </tr>\n    <tr>\n      <th>1</th>\n      <td>2020年12月3日</td>\n      <td>3.416</td>\n      <td>3.403</td>\n      <td>3.416</td>\n      <td>3.403</td>\n      <td>-0.08%</td>\n    </tr>\n    <tr>\n      <th>2</th>\n      <td>2020年12月2日</td>\n      <td>3.418</td>\n      <td>3.393</td>\n      <td>3.418</td>\n      <td>3.393</td>\n      <td>0.13%</td>\n    </tr>\n    <tr>\n      <th>3</th>\n      <td>2020年12月1日</td>\n      <td>3.414</td>\n      <td>3.393</td>\n      <td>3.414</td>\n      <td>3.393</td>\n      <td>1.68%</td>\n    </tr>\n    <tr>\n      <th>4</th>\n      <td>2020年11月30日</td>\n      <td>3.358</td>\n      <td>3.355</td>\n      <td>3.358</td>\n      <td>3.355</td>\n      <td>-0.12%</td>\n    </tr>\n    <tr>\n      <th>...</th>\n      <td>...</td>\n      <td>...</td>\n      <td>...</td>\n      <td>...</td>\n      <td>...</td>\n      <td>...</td>\n    </tr>\n    <tr>\n      <th>762</th>\n      <td>2018年1月5日</td>\n      <td>2.176</td>\n      <td>2.176</td>\n      <td>2.176</td>\n      <td>2.176</td>\n      <td>-0.09%</td>\n    </tr>\n    <tr>\n      <th>763</th>\n      <td>2018年1月4日</td>\n      <td>2.178</td>\n      <td>2.178</td>\n      <td>2.178</td>\n      <td>2.178</td>\n      <td>0.51%</td>\n    </tr>\n    <tr>\n      <th>764</th>\n      <td>2018年1月3日</td>\n      <td>2.167</td>\n      <td>2.167</td>\n      <td>2.167</td>\n      <td>2.167</td>\n      <td>0.74%</td>\n    </tr>\n    <tr>\n      <th>765</th>\n      <td>2018年1月2日</td>\n      <td>2.151</td>\n      <td>2.151</td>\n      <td>2.151</td>\n      <td>2.151</td>\n      <td>1.22%</td>\n    </tr>\n    <tr>\n      <th>766</th>\n      <td>2018年1月1日</td>\n      <td>2.125</td>\n      <td>2.125</td>\n      <td>2.125</td>\n      <td>2.125</td>\n      <td>0.00%</td>\n    </tr>\n  </tbody>\n</table>\n<p>767 rows × 6 columns</p>\n</div>"
     },
     "metadata": {},
     "execution_count": 48
    }
   ],
   "source": [
    "def check_series():\n",
    "    if '日期' in data:\n",
    "        pass\n",
    "    else:\n",
    "        while True:\n",
    "            date_series = input('The date series is named:')\n",
    "            if date_series in data:\n",
    "                data.rename(columns={date_series:'日期'},inplace=True)\n",
    "                print(\"Match successfully, renamed to '日期'\")\n",
    "                break\n",
    "            else:\n",
    "                print('Match failed, re-enter')\n",
    "    if '收盘' in data:\n",
    "        pass\n",
    "    else:\n",
    "        while True:\n",
    "            price_series = input('The price series is named:')\n",
    "            if price_series in data:\n",
    "                data.rename(columns={price_series:'收盘'},inplace=True)\n",
    "                print(\"Match successfully, renamed to '收盘'\")\n",
    "                break\n",
    "            else:\n",
    "                print('Match failed, re-enter')\n",
    "    if '开盘' in data:\n",
    "        pass\n",
    "    else:\n",
    "        while True:\n",
    "            open_series = input('The open series is named:')\n",
    "            if open_series in data:\n",
    "                data.rename(columns={open_series:'开盘'},inplace=True)\n",
    "                print(\"Match successfully, renamed to '收盘'\")\n",
    "                break\n",
    "            else:\n",
    "                print('Match failed, re-enter')\n",
    "    if '高' in data:\n",
    "        pass\n",
    "    else:\n",
    "        while True:\n",
    "            high_series = input('The high series is named:')\n",
    "            if high_series in data:\n",
    "                data.rename(columns={high_series:'高'},inplace=True)\n",
    "                print(\"Match successfully, renamed to '收盘'\")\n",
    "                break\n",
    "            else:\n",
    "                print('Match failed, re-enter')\n",
    "    if '低' in data:\n",
    "        pass\n",
    "    else:\n",
    "        while True:\n",
    "            low_series = input('The low series is named:')\n",
    "            if low_series in data:\n",
    "                data.rename(columns={low_series:'低'},inplace=True)\n",
    "                print(\"Match successfully, renamed to '收盘'\")\n",
    "                break\n",
    "            else:\n",
    "                print('Match failed, re-enter')\n",
    "    if '涨跌幅' in data:\n",
    "        pass\n",
    "    else:\n",
    "        while True:\n",
    "            change_series = input('The change series is named:')\n",
    "            if date_series in data:\n",
    "                data.rename(columns={date_series:'涨跌幅'},inplace=True)\n",
    "                print(\"Match successfully, renamed to '收盘'\")\n",
    "                break\n",
    "            else:\n",
    "                print('Match failed, re-enter')\n",
    "check_series()\n",
    "data"
   ]
  },
  {
   "cell_type": "code",
   "execution_count": 52,
   "metadata": {},
   "outputs": [
    {
     "output_type": "execute_result",
     "data": {
      "text/plain": [
       "True"
      ]
     },
     "metadata": {},
     "execution_count": 52
    }
   ],
   "source": [
    "def check_date_item():\n",
    "    for each in data['日期']:\n",
    "        each = str(each)\n",
    "        if len(each) < 9 or len(each) > 11:\n",
    "            return False\n",
    "        elif each.count('年') != 1 or each.count('月') != 1 or each.count('日') != 1:\n",
    "            return False\n",
    "    return True\n",
    "check_date_item()"
   ]
  },
  {
   "cell_type": "code",
   "execution_count": 51,
   "metadata": {
    "tags": []
   },
   "outputs": [
    {
     "output_type": "execute_result",
     "data": {
      "text/plain": [
       "True"
      ]
     },
     "metadata": {},
     "execution_count": 51
    }
   ],
   "source": [
    "def check_pohl():\n",
    "    for each in range(len(data['日期'])):\n",
    "        if not str(data['收盘'][each]).replace('.','').isdigit() or not str(data['开盘'][each]).replace('.','').isdigit() or not str(data['高'][each]).replace('.','').isdigit() or not str(data['低'][each]).replace('.','').isdigit():\n",
    "            return False\n",
    "    return True\n",
    "check_pohl()"
   ]
  },
  {
   "cell_type": "code",
   "execution_count": null,
   "metadata": {},
   "outputs": [],
   "source": [
    "def add_series():\n",
    "    if '星期' in data:\n",
    "        del data['星期']\n",
    "    if '日' in data:\n",
    "        del data['日']\n",
    "    wd_list = []\n",
    "    day_list = []\n",
    "    for each in range(len(data['日期'])):\n",
    "        test = data['日期'][each].replace('年','').replace('月','').replace('日','')\n",
    "        item = dt.datetime.strptime(test, \"%Y%m%d\").weekday() + 1\n",
    "        wd_list.append(item)\n",
    "        day_list.append(dt.datetime.strptime(test, \"%Y%m%d\").day)\n",
    "    data.insert(0,'星期',wd_list)\n",
    "    data.insert(1,'日',day_list)\n",
    "    if '估计' in data:\n",
    "        del data['估计']\n",
    "    es_list = []\n",
    "    for each in range(len(data['日期'])):\n",
    "        es_value=(data['收盘'][each]+data['开盘'][each]+data['高'][each]+data['低'][each])/4\n",
    "        es_list.append(es_value)\n",
    "    data.insert(2,'估计',es_list)\n",
    "add_series()\n",
    "data"
   ]
  },
  {
   "cell_type": "code",
   "execution_count": null,
   "metadata": {
    "tags": []
   },
   "outputs": [],
   "source": [
    "def es_range():\n",
    "    while True:\n",
    "        try:\n",
    "            es_range = int(input('How many trading days(1~' + str(len(data['日期'])) +') need to be calculated until now?\\t'))\n",
    "            if es_range > len(data['日期']):\n",
    "                print('Out of range, re-enter')\n",
    "                continue\n",
    "            print('The time is set to the previous '+str(es_range)+' trading days in dataset')\n",
    "            break\n",
    "        except:\n",
    "            print('Invalid input, re-enter')"
   ]
  },
  {
   "cell_type": "code",
   "execution_count": null,
   "metadata": {},
   "outputs": [],
   "source": [
    "## Invest once a week\n",
    "def week1():\n",
    "    week1 = [[],[],[],[],[]] ## [mon,tue,wed,thur,fri]\n",
    "    for each in range(es_range):\n",
    "        if   data['星期'][each] == 1:\n",
    "            week1[0].append(data['估计'][each])\n",
    "        elif data['星期'][each] == 2:\n",
    "            week1[1].append(data['估计'][each])\n",
    "        elif data['星期'][each] == 3:\n",
    "            week1[2].append(data['估计'][each])\n",
    "        elif data['星期'][each] == 4:\n",
    "            week1[3].append(data['估计'][each])\n",
    "        elif data['星期'][each] == 5:\n",
    "            week1[4].append(data['估计'][each])\n",
    "    print('Invest once a week')\n",
    "    print('Monday    average price:   ' + str(np.mean(week1[0])))\n",
    "    print('Tuesday   average price:   ' + str(np.mean(week1[1])))\n",
    "    print('Wednesday average price:   ' + str(np.mean(week1[2])))\n",
    "    print('Thursday  average price:   ' + str(np.mean(week1[3])))\n",
    "    print('Friday    average price:   ' + str(np.mean(week1[4])))"
   ]
  },
  {
   "cell_type": "code",
   "execution_count": null,
   "metadata": {},
   "outputs": [],
   "source": [
    "## Invest every two weeks\n",
    "def week2():\n",
    "    week2 = [[],[],[],[],[],[0,0,0,0,0]] ## [mon,tue,wed,thur,fri,MARK] \n",
    "    for each in range(es_range):\n",
    "        if   data['星期'][each] == 1 and week2[-1][0]%2 == 0:\n",
    "            week2[0].append(data['估计'][each])\n",
    "            week2[-1][0] += 1\n",
    "        elif data['星期'][each] == 2 and week2[-1][1]%2 == 0:\n",
    "            week2[1].append(data['估计'][each])\n",
    "            week2[-1][1] += 1\n",
    "        elif data['星期'][each] == 3 and week2[-1][2]%2 == 0:\n",
    "            week2[2].append(data['收盘'][each])\n",
    "            week2[-1][2] += 1\n",
    "        elif data['星期'][each] == 4 and week2[-1][3]%2 == 0:\n",
    "            week2[3].append(data['估计'][each])\n",
    "            week2[-1][3] += 1\n",
    "        elif data['星期'][each] == 5 and week2[-1][4]%2 == 0:\n",
    "            week2[4].append(data['估计'][each])\n",
    "            week2[-1][4] += 1\n",
    "    print('Invest every two weeks')\n",
    "    print('Monday    average price:   ' + str(np.mean(week2[0])))\n",
    "    print('Tuesday   average price:   ' + str(np.mean(week2[1])))\n",
    "    print('Wednesday average price:   ' + str(np.mean(week2[2])))\n",
    "    print('Thursday  average price:   ' + str(np.mean(week2[3])))\n",
    "    print('Friday    average price:   ' + str(np.mean(week2[4])))"
   ]
  },
  {
   "cell_type": "code",
   "execution_count": null,
   "metadata": {},
   "outputs": [],
   "source": [
    "## Invest once a month\n",
    "def month1():\n",
    "    month1 = [[],[],[],[],[],[],[],[],[],[],[],[],[],[],[],[],[],[],[],[],[],[],[],[],[],[],[],[]]\n",
    "    for each in range(es_range):\n",
    "        if   data['日'][each] == 1:\n",
    "            month1[0].append(data['估计'][each])\n",
    "        elif data['日'][each] == 2:\n",
    "            month1[1].append(data['估计'][each])\n",
    "        elif data['日'][each] == 3:\n",
    "            month1[2].append(data['估计'][each])\n",
    "        elif data['日'][each] == 4:\n",
    "            month1[3].append(data['估计'][each])\n",
    "        elif data['日'][each] == 5:\n",
    "            month1[4].append(data['估计'][each])\n",
    "        elif data['日'][each] == 6:\n",
    "            month1[5].append(data['估计'][each])\n",
    "        elif data['日'][each] == 7:\n",
    "            month1[6].append(data['估计'][each])\n",
    "        elif data['日'][each] == 8:\n",
    "            month1[7].append(data['估计'][each])\n",
    "        elif data['日'][each] == 9:\n",
    "            month1[8].append(data['估计'][each])\n",
    "        elif data['日'][each] == 10:\n",
    "            month1[9].append(data['估计'][each])\n",
    "        elif data['日'][each] == 11:\n",
    "            month1[10].append(data['估计'][each])\n",
    "        elif data['日'][each] == 12:\n",
    "            month1[11].append(data['估计'][each])\n",
    "        elif data['日'][each] == 13:\n",
    "            month1[12].append(data['估计'][each])\n",
    "        elif data['日'][each] == 14:\n",
    "            month1[13].append(data['估计'][each])\n",
    "        elif data['日'][each] == 15:\n",
    "            month1[14].append(data['估计'][each])\n",
    "        elif data['日'][each] == 16:\n",
    "            month1[15].append(data['估计'][each])\n",
    "        elif data['日'][each] == 17:\n",
    "            month1[16].append(data['估计'][each])\n",
    "        elif data['日'][each] == 18:\n",
    "            month1[17].append(data['估计'][each])\n",
    "        elif data['日'][each] == 19:\n",
    "            month1[18].append(data['估计'][each])\n",
    "        elif data['日'][each] == 20:\n",
    "            month1[19].append(data['估计'][each])\n",
    "        elif data['日'][each] == 21:\n",
    "            month1[20].append(data['估计'][each])\n",
    "        elif data['日'][each] == 22:\n",
    "            month1[21].append(data['估计'][each])\n",
    "        elif data['日'][each] == 23:\n",
    "            month1[22].append(data['估计'][each])\n",
    "        elif data['日'][each] == 24:\n",
    "            month1[23].append(data['估计'][each])\n",
    "        elif data['日'][each] == 25:\n",
    "            month1[24].append(data['估计'][each])\n",
    "        elif data['日'][each] == 26:\n",
    "            month1[25].append(data['估计'][each])\n",
    "        elif data['日'][each] == 27:\n",
    "            month1[26].append(data['估计'][each])\n",
    "        elif data['日'][each] == 28:\n",
    "            month1[27].append(data['估计'][each])\n",
    "    print('Invest once a month')\n",
    "    print('1st average price:   ' + str(np.mean(month1[0])))\n",
    "    print('2nd average price:   ' + str(np.mean(month1[1])))\n",
    "    print('3rd average price:   ' + str(np.mean(month1[2])))\n",
    "    print('4th average price:   ' + str(np.mean(month1[3])))\n",
    "    print('5th average price:   ' + str(np.mean(month1[4])))\n",
    "    print('6th average price:   ' + str(np.mean(month1[5])))\n",
    "    print('7th average price:   ' + str(np.mean(month1[6])))\n",
    "    print('8th average price:   ' + str(np.mean(month1[7])))\n",
    "    print('9th average price:   ' + str(np.mean(month1[8])))\n",
    "    print('10th average price:   ' + str(np.mean(month1[9])))\n",
    "    print('11st average price:   ' + str(np.mean(month1[10])))\n",
    "    print('12nd average price:   ' + str(np.mean(month1[11])))\n",
    "    print('13rd average price:   ' + str(np.mean(month1[12])))\n",
    "    print('14th average price:   ' + str(np.mean(month1[13])))\n",
    "    print('15th average price:   ' + str(np.mean(month1[14])))\n",
    "    print('16th average price:   ' + str(np.mean(month1[15])))\n",
    "    print('17th average price:   ' + str(np.mean(month1[16])))\n",
    "    print('18th average price:   ' + str(np.mean(month1[17])))\n",
    "    print('19th average price:   ' + str(np.mean(month1[18])))\n",
    "    print('20th average price:   ' + str(np.mean(month1[19])))\n",
    "    print('21st average price:   ' + str(np.mean(month1[20])))\n",
    "    print('22nd average price:   ' + str(np.mean(month1[21])))\n",
    "    print('23rd average price:   ' + str(np.mean(month1[22])))\n",
    "    print('24th average price:   ' + str(np.mean(month1[23])))\n",
    "    print('25th average price:   ' + str(np.mean(month1[24])))\n",
    "    print('26th average price:   ' + str(np.mean(month1[25])))\n",
    "    print('27th average price:   ' + str(np.mean(month1[26])))\n",
    "    print('28th average price:   ' + str(np.mean(month1[27])))"
   ]
  },
  {
   "cell_type": "code",
   "execution_count": null,
   "metadata": {},
   "outputs": [],
   "source": [
    "## Invest once a day\n",
    "def day1():\n",
    "    day1 = []\n",
    "    for each in range(es_range):\n",
    "        day1.append(data['估计'][each])\n",
    "    print('Invest once a day')\n",
    "    print('Daily average price:   ' + str(np.mean(day1)))"
   ]
  },
  {
   "cell_type": "code",
   "execution_count": null,
   "metadata": {},
   "outputs": [],
   "source": []
  }
 ]
}