{
 "metadata": {
  "language_info": {
   "codemirror_mode": {
    "name": "ipython",
    "version": 3
   },
   "file_extension": ".py",
   "mimetype": "text/x-python",
   "name": "python",
   "nbconvert_exporter": "python",
   "pygments_lexer": "ipython3",
   "version": "3.8.5-final"
  },
  "orig_nbformat": 2,
  "kernelspec": {
   "name": "python3",
   "display_name": "Python 3.8.5 64-bit ('base': conda)",
   "metadata": {
    "interpreter": {
     "hash": "e134e05457d34029b6460cd73bbf1ed73f339b5b6d98c95be70b69eba114fe95"
    }
   }
  }
 },
 "nbformat": 4,
 "nbformat_minor": 2,
 "cells": [
  {
   "source": [
    "def reverse_function(str_list):\n",
    "    if len(str_list) <= 0:\n",
    "        return False\n",
    "    elif len(str_list) == 1:\n",
    "        return str_list\n",
    "    else:\n",
    "        sample = []\n",
    "        for each in str_list[::-1]:\n",
    "            sample.append(each)\n",
    "        return sample\n",
    "str_list = [1,2,3,4,5,6,7,8]\n",
    "reverse_function(str_list)"
   ],
   "cell_type": "code",
   "metadata": {},
   "execution_count": 1,
   "outputs": [
    {
     "output_type": "execute_result",
     "data": {
      "text/plain": [
       "[8, 7, 6, 5, 4, 3, 2, 1]"
      ]
     },
     "metadata": {},
     "execution_count": 1
    }
   ]
  },
  {
   "cell_type": "code",
   "execution_count": 2,
   "metadata": {},
   "outputs": [
    {
     "output_type": "stream",
     "name": "stdout",
     "text": [
      "18.0\n18.0\n23.0\n"
     ]
    }
   ],
   "source": [
    "class Account :\n",
    "    def __init__ ( self, holder_name, acct_number, initial_balance) :\n",
    "        self.holder_name = holder_name\n",
    "        self.acct_number = acct_number\n",
    "        self.initial_balance = initial_balance\n",
    "    def deposit ( self, deposit_fund ) :\n",
    "        try:\n",
    "            deposit_fund = float(deposit_fund)\n",
    "        except:\n",
    "            return False\n",
    "        if deposit_fund > 0:\n",
    "            self.initial_balance += deposit_fund\n",
    "        else:\n",
    "            return False\n",
    "    def withdraw ( self, withdraw_fund ) :\n",
    "        try:\n",
    "            deposit_fund = float(withdraw_fund)\n",
    "        except:\n",
    "            return False\n",
    "        if withdraw_fund > 0 and self.initial_balance >= withdraw_fund:\n",
    "            self.initial_balance += deposit_fund\n",
    "        else:\n",
    "            return False\n",
    "act = Account('zgkeha',1001,10)\n",
    "act.deposit(8)\n",
    "print(act.initial_balance)\n",
    "act.withdraw(20)\n",
    "print(act.initial_balance)\n",
    "act.withdraw(5)\n",
    "print(act.initial_balance)"
   ]
  },
  {
   "cell_type": "code",
   "execution_count": 3,
   "metadata": {},
   "outputs": [
    {
     "output_type": "execute_result",
     "data": {
      "text/plain": [
       "{'A': 2, 'BBB': 1}"
      ]
     },
     "metadata": {},
     "execution_count": 3
    }
   ],
   "source": [
    "def find_frequency(char_list) :\n",
    "    if len(char_list) <= 0:\n",
    "        return False\n",
    "    else:\n",
    "        sample = {}\n",
    "        for item in char_list:\n",
    "            if item.isupper() and item in sample:\n",
    "                sample[item] += 1\n",
    "            elif item.isupper() and item not in sample:\n",
    "                sample[item] = 1\n",
    "            elif not item.isupper():\n",
    "                continue\n",
    "        return sample\n",
    "char_list = ['a','A','A','.','1','BBB']\n",
    "find_frequency(char_list)"
   ]
  },
  {
   "cell_type": "code",
   "execution_count": 4,
   "metadata": {},
   "outputs": [
    {
     "output_type": "execute_result",
     "data": {
      "text/plain": [
       "{'one': 1, 'two': 2, 'three': 3}"
      ]
     },
     "metadata": {},
     "execution_count": 4
    }
   ],
   "source": [
    "def list_to_dictionary(tuple_list):\n",
    "    if not len(tuple_list):\n",
    "        return False\n",
    "    sample = {}\n",
    "    for each in tuple_list:\n",
    "        if len(each) != 2:\n",
    "            return False\n",
    "        else:\n",
    "            sample[each[1]] = each[0]\n",
    "    return sample\n",
    "tuple_list = [(1,'one'),(2,'two'),(3,'three')]\n",
    "list_to_dictionary(tuple_list)"
   ]
  },
  {
   "cell_type": "code",
   "execution_count": 5,
   "metadata": {},
   "outputs": [
    {
     "output_type": "execute_result",
     "data": {
      "text/plain": [
       "['1.0', '25.0', '56.9', '95.0', '165.0', '248.0', '486.0', '4869.0']"
      ]
     },
     "metadata": {},
     "execution_count": 5
    }
   ],
   "source": [
    "def selection_sort(str_list):\n",
    "    sample = []\n",
    "    for each in str_list:\n",
    "        if each != str(each) or not each.replace('.','').isdigit():\n",
    "            return False\n",
    "        else:\n",
    "            each = float(each)\n",
    "            if not sample:\n",
    "                sample.append(each)\n",
    "            else:\n",
    "                cursor1 = 0\n",
    "                cursor2 = len(sample)\n",
    "                while True:\n",
    "                    benchmark = (cursor1+cursor2)//2\n",
    "                    if each < sample[benchmark]:\n",
    "                        cursor2 = benchmark\n",
    "                        if cursor1 == cursor2:\n",
    "                            sample.insert(cursor1,each)\n",
    "                            break\n",
    "                    elif each > sample[benchmark]:\n",
    "                        cursor1 = benchmark + 1\n",
    "                        if cursor1 == cursor2:\n",
    "                            sample.insert(cursor1,each)\n",
    "                            break\n",
    "                    elif each == sample[benchmark]:\n",
    "                        sample.insert(benchmark,each)\n",
    "                        break\n",
    "    result = [str(item) for item in sample]\n",
    "    return result\n",
    "str_list = ['56.9','1','95','486','165','4869','248','25']\n",
    "selection_sort(str_list)"
   ]
  },
  {
   "cell_type": "code",
   "execution_count": null,
   "metadata": {},
   "outputs": [],
   "source": []
  }
 ]
}