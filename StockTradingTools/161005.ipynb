{
 "metadata": {
  "language_info": {
   "codemirror_mode": {
    "name": "ipython",
    "version": 3
   },
   "file_extension": ".py",
   "mimetype": "text/x-python",
   "name": "python",
   "nbconvert_exporter": "python",
   "pygments_lexer": "ipython3",
   "version": "3.8.5-final"
  },
  "orig_nbformat": 2,
  "kernelspec": {
   "name": "python3",
   "display_name": "Python 3",
   "language": "python"
  }
 },
 "nbformat": 4,
 "nbformat_minor": 2,
 "cells": [
  {
   "cell_type": "code",
   "execution_count": 1,
   "metadata": {},
   "outputs": [
    {
     "output_type": "stream",
     "name": "stdout",
     "text": [
      "Valid path, the head of file is shown as below\n"
     ]
    },
    {
     "output_type": "execute_result",
     "data": {
      "text/plain": [
       "              日期     收盘     开盘      高      低      交易量     涨跌幅\n",
       "0     2020年12月4日  45.78  46.47  46.60  45.11   46.12M  -1.53%\n",
       "1     2020年12月3日  46.49  46.75  47.10  45.50   50.24M  -0.66%\n",
       "2     2020年12月2日  46.80  46.00  47.03  45.26   61.99M   1.30%\n",
       "3     2020年12月1日  46.20  44.40  46.55  44.39   78.07M   4.52%\n",
       "4    2020年11月30日  44.20  45.85  47.77  44.03  115.36M  -3.60%\n",
       "..           ...    ...    ...    ...    ...      ...     ...\n",
       "990  2016年11月11日  18.03  17.95  18.08  17.93   27.63M   0.22%\n",
       "991  2016年11月10日  17.99  17.95  18.11  17.94   27.12M   0.56%\n",
       "992   2016年11月9日  17.89  18.00  18.08  17.77   34.24M  -0.56%\n",
       "993   2016年11月8日  17.99  17.92  18.06  17.89   26.23M   0.45%\n",
       "994   2016年11月7日  17.91  17.91  17.93  17.85   20.83M   0.06%\n",
       "\n",
       "[995 rows x 7 columns]"
      ],
      "text/html": "<div>\n<style scoped>\n    .dataframe tbody tr th:only-of-type {\n        vertical-align: middle;\n    }\n\n    .dataframe tbody tr th {\n        vertical-align: top;\n    }\n\n    .dataframe thead th {\n        text-align: right;\n    }\n</style>\n<table border=\"1\" class=\"dataframe\">\n  <thead>\n    <tr style=\"text-align: right;\">\n      <th></th>\n      <th>日期</th>\n      <th>收盘</th>\n      <th>开盘</th>\n      <th>高</th>\n      <th>低</th>\n      <th>交易量</th>\n      <th>涨跌幅</th>\n    </tr>\n  </thead>\n  <tbody>\n    <tr>\n      <th>0</th>\n      <td>2020年12月4日</td>\n      <td>45.78</td>\n      <td>46.47</td>\n      <td>46.60</td>\n      <td>45.11</td>\n      <td>46.12M</td>\n      <td>-1.53%</td>\n    </tr>\n    <tr>\n      <th>1</th>\n      <td>2020年12月3日</td>\n      <td>46.49</td>\n      <td>46.75</td>\n      <td>47.10</td>\n      <td>45.50</td>\n      <td>50.24M</td>\n      <td>-0.66%</td>\n    </tr>\n    <tr>\n      <th>2</th>\n      <td>2020年12月2日</td>\n      <td>46.80</td>\n      <td>46.00</td>\n      <td>47.03</td>\n      <td>45.26</td>\n      <td>61.99M</td>\n      <td>1.30%</td>\n    </tr>\n    <tr>\n      <th>3</th>\n      <td>2020年12月1日</td>\n      <td>46.20</td>\n      <td>44.40</td>\n      <td>46.55</td>\n      <td>44.39</td>\n      <td>78.07M</td>\n      <td>4.52%</td>\n    </tr>\n    <tr>\n      <th>4</th>\n      <td>2020年11月30日</td>\n      <td>44.20</td>\n      <td>45.85</td>\n      <td>47.77</td>\n      <td>44.03</td>\n      <td>115.36M</td>\n      <td>-3.60%</td>\n    </tr>\n    <tr>\n      <th>...</th>\n      <td>...</td>\n      <td>...</td>\n      <td>...</td>\n      <td>...</td>\n      <td>...</td>\n      <td>...</td>\n      <td>...</td>\n    </tr>\n    <tr>\n      <th>990</th>\n      <td>2016年11月11日</td>\n      <td>18.03</td>\n      <td>17.95</td>\n      <td>18.08</td>\n      <td>17.93</td>\n      <td>27.63M</td>\n      <td>0.22%</td>\n    </tr>\n    <tr>\n      <th>991</th>\n      <td>2016年11月10日</td>\n      <td>17.99</td>\n      <td>17.95</td>\n      <td>18.11</td>\n      <td>17.94</td>\n      <td>27.12M</td>\n      <td>0.56%</td>\n    </tr>\n    <tr>\n      <th>992</th>\n      <td>2016年11月9日</td>\n      <td>17.89</td>\n      <td>18.00</td>\n      <td>18.08</td>\n      <td>17.77</td>\n      <td>34.24M</td>\n      <td>-0.56%</td>\n    </tr>\n    <tr>\n      <th>993</th>\n      <td>2016年11月8日</td>\n      <td>17.99</td>\n      <td>17.92</td>\n      <td>18.06</td>\n      <td>17.89</td>\n      <td>26.23M</td>\n      <td>0.45%</td>\n    </tr>\n    <tr>\n      <th>994</th>\n      <td>2016年11月7日</td>\n      <td>17.91</td>\n      <td>17.91</td>\n      <td>17.93</td>\n      <td>17.85</td>\n      <td>20.83M</td>\n      <td>0.06%</td>\n    </tr>\n  </tbody>\n</table>\n<p>995 rows × 7 columns</p>\n</div>"
     },
     "metadata": {},
     "execution_count": 1
    }
   ],
   "source": [
    "import pandas as pd\n",
    "import datetime as dt\n",
    "import numpy as np\n",
    "def input_path():\n",
    "    while True:\n",
    "        try:\n",
    "            csv_path = input('The path of the historical data is:\\t')\n",
    "            data = pd.read_csv(csv_path)\n",
    "            break\n",
    "        except:\n",
    "            print('Invalid path, try again')\n",
    "    print('Valid path, the head of file is shown as below')\n",
    "    return data\n",
    "data = input_path()\n",
    "data"
   ]
  },
  {
   "cell_type": "code",
   "execution_count": 2,
   "metadata": {
    "tags": []
   },
   "outputs": [
    {
     "output_type": "execute_result",
     "data": {
      "text/plain": [
       "              日期     收盘     开盘      高      低      交易量     涨跌幅\n",
       "0     2020年12月4日  45.78  46.47  46.60  45.11   46.12M  -1.53%\n",
       "1     2020年12月3日  46.49  46.75  47.10  45.50   50.24M  -0.66%\n",
       "2     2020年12月2日  46.80  46.00  47.03  45.26   61.99M   1.30%\n",
       "3     2020年12月1日  46.20  44.40  46.55  44.39   78.07M   4.52%\n",
       "4    2020年11月30日  44.20  45.85  47.77  44.03  115.36M  -3.60%\n",
       "..           ...    ...    ...    ...    ...      ...     ...\n",
       "990  2016年11月11日  18.03  17.95  18.08  17.93   27.63M   0.22%\n",
       "991  2016年11月10日  17.99  17.95  18.11  17.94   27.12M   0.56%\n",
       "992   2016年11月9日  17.89  18.00  18.08  17.77   34.24M  -0.56%\n",
       "993   2016年11月8日  17.99  17.92  18.06  17.89   26.23M   0.45%\n",
       "994   2016年11月7日  17.91  17.91  17.93  17.85   20.83M   0.06%\n",
       "\n",
       "[995 rows x 7 columns]"
      ],
      "text/html": "<div>\n<style scoped>\n    .dataframe tbody tr th:only-of-type {\n        vertical-align: middle;\n    }\n\n    .dataframe tbody tr th {\n        vertical-align: top;\n    }\n\n    .dataframe thead th {\n        text-align: right;\n    }\n</style>\n<table border=\"1\" class=\"dataframe\">\n  <thead>\n    <tr style=\"text-align: right;\">\n      <th></th>\n      <th>日期</th>\n      <th>收盘</th>\n      <th>开盘</th>\n      <th>高</th>\n      <th>低</th>\n      <th>交易量</th>\n      <th>涨跌幅</th>\n    </tr>\n  </thead>\n  <tbody>\n    <tr>\n      <th>0</th>\n      <td>2020年12月4日</td>\n      <td>45.78</td>\n      <td>46.47</td>\n      <td>46.60</td>\n      <td>45.11</td>\n      <td>46.12M</td>\n      <td>-1.53%</td>\n    </tr>\n    <tr>\n      <th>1</th>\n      <td>2020年12月3日</td>\n      <td>46.49</td>\n      <td>46.75</td>\n      <td>47.10</td>\n      <td>45.50</td>\n      <td>50.24M</td>\n      <td>-0.66%</td>\n    </tr>\n    <tr>\n      <th>2</th>\n      <td>2020年12月2日</td>\n      <td>46.80</td>\n      <td>46.00</td>\n      <td>47.03</td>\n      <td>45.26</td>\n      <td>61.99M</td>\n      <td>1.30%</td>\n    </tr>\n    <tr>\n      <th>3</th>\n      <td>2020年12月1日</td>\n      <td>46.20</td>\n      <td>44.40</td>\n      <td>46.55</td>\n      <td>44.39</td>\n      <td>78.07M</td>\n      <td>4.52%</td>\n    </tr>\n    <tr>\n      <th>4</th>\n      <td>2020年11月30日</td>\n      <td>44.20</td>\n      <td>45.85</td>\n      <td>47.77</td>\n      <td>44.03</td>\n      <td>115.36M</td>\n      <td>-3.60%</td>\n    </tr>\n    <tr>\n      <th>...</th>\n      <td>...</td>\n      <td>...</td>\n      <td>...</td>\n      <td>...</td>\n      <td>...</td>\n      <td>...</td>\n      <td>...</td>\n    </tr>\n    <tr>\n      <th>990</th>\n      <td>2016年11月11日</td>\n      <td>18.03</td>\n      <td>17.95</td>\n      <td>18.08</td>\n      <td>17.93</td>\n      <td>27.63M</td>\n      <td>0.22%</td>\n    </tr>\n    <tr>\n      <th>991</th>\n      <td>2016年11月10日</td>\n      <td>17.99</td>\n      <td>17.95</td>\n      <td>18.11</td>\n      <td>17.94</td>\n      <td>27.12M</td>\n      <td>0.56%</td>\n    </tr>\n    <tr>\n      <th>992</th>\n      <td>2016年11月9日</td>\n      <td>17.89</td>\n      <td>18.00</td>\n      <td>18.08</td>\n      <td>17.77</td>\n      <td>34.24M</td>\n      <td>-0.56%</td>\n    </tr>\n    <tr>\n      <th>993</th>\n      <td>2016年11月8日</td>\n      <td>17.99</td>\n      <td>17.92</td>\n      <td>18.06</td>\n      <td>17.89</td>\n      <td>26.23M</td>\n      <td>0.45%</td>\n    </tr>\n    <tr>\n      <th>994</th>\n      <td>2016年11月7日</td>\n      <td>17.91</td>\n      <td>17.91</td>\n      <td>17.93</td>\n      <td>17.85</td>\n      <td>20.83M</td>\n      <td>0.06%</td>\n    </tr>\n  </tbody>\n</table>\n<p>995 rows × 7 columns</p>\n</div>"
     },
     "metadata": {},
     "execution_count": 2
    }
   ],
   "source": [
    "def check_series():\n",
    "    if '日期' in data:\n",
    "        pass\n",
    "    else:\n",
    "        while True:\n",
    "            date_series = input('The date series is named:')\n",
    "            if date_series in data:\n",
    "                data.rename(columns={date_series:'日期'},inplace=True)\n",
    "                print(\"Match successfully, renamed to '日期'\")\n",
    "                break\n",
    "            else:\n",
    "                print('Match failed, re-enter')\n",
    "    if '收盘' in data:\n",
    "        pass\n",
    "    else:\n",
    "        while True:\n",
    "            price_series = input('The price series is named:')\n",
    "            if price_series in data:\n",
    "                data.rename(columns={price_series:'收盘'},inplace=True)\n",
    "                print(\"Match successfully, renamed to '收盘'\")\n",
    "                break\n",
    "            else:\n",
    "                print('Match failed, re-enter')\n",
    "    if '开盘' in data:\n",
    "        pass\n",
    "    else:\n",
    "        while True:\n",
    "            open_series = input('The open series is named:')\n",
    "            if open_series in data:\n",
    "                data.rename(columns={open_series:'开盘'},inplace=True)\n",
    "                print(\"Match successfully, renamed to '收盘'\")\n",
    "                break\n",
    "            else:\n",
    "                print('Match failed, re-enter')\n",
    "    if '高' in data:\n",
    "        pass\n",
    "    else:\n",
    "        while True:\n",
    "            high_series = input('The high series is named:')\n",
    "            if high_series in data:\n",
    "                data.rename(columns={high_series:'高'},inplace=True)\n",
    "                print(\"Match successfully, renamed to '收盘'\")\n",
    "                break\n",
    "            else:\n",
    "                print('Match failed, re-enter')\n",
    "    if '低' in data:\n",
    "        pass\n",
    "    else:\n",
    "        while True:\n",
    "            low_series = input('The low series is named:')\n",
    "            if low_series in data:\n",
    "                data.rename(columns={low_series:'低'},inplace=True)\n",
    "                print(\"Match successfully, renamed to '收盘'\")\n",
    "                break\n",
    "            else:\n",
    "                print('Match failed, re-enter')\n",
    "    if '涨跌幅' in data:\n",
    "        pass\n",
    "    else:\n",
    "        while True:\n",
    "            change_series = input('The change series is named:')\n",
    "            if date_series in data:\n",
    "                data.rename(columns={date_series:'涨跌幅'},inplace=True)\n",
    "                print(\"Match successfully, renamed to '收盘'\")\n",
    "                break\n",
    "            else:\n",
    "                print('Match failed, re-enter')\n",
    "check_series()\n",
    "data"
   ]
  },
  {
   "cell_type": "code",
   "execution_count": 3,
   "metadata": {},
   "outputs": [
    {
     "output_type": "execute_result",
     "data": {
      "text/plain": [
       "True"
      ]
     },
     "metadata": {},
     "execution_count": 3
    }
   ],
   "source": [
    "def check_date_item():\n",
    "    for each in data['日期']:\n",
    "        each = str(each)\n",
    "        if len(each) < 9 or len(each) > 11:\n",
    "            return False\n",
    "        elif each.count('年') != 1 or each.count('月') != 1 or each.count('日') != 1:\n",
    "            return False\n",
    "    return True\n",
    "check_date_item()"
   ]
  },
  {
   "cell_type": "code",
   "execution_count": 4,
   "metadata": {
    "tags": []
   },
   "outputs": [
    {
     "output_type": "execute_result",
     "data": {
      "text/plain": [
       "True"
      ]
     },
     "metadata": {},
     "execution_count": 4
    }
   ],
   "source": [
    "def check_pohl():\n",
    "    for each in range(len(data['日期'])):\n",
    "        if not str(data['收盘'][each]).replace('.','').isdigit() or not str(data['开盘'][each]).replace('.','').isdigit() or not str(data['高'][each]).replace('.','').isdigit() or not str(data['低'][each]).replace('.','').isdigit():\n",
    "            return False\n",
    "    return True\n",
    "check_pohl()"
   ]
  },
  {
   "cell_type": "code",
   "execution_count": 5,
   "metadata": {},
   "outputs": [
    {
     "output_type": "execute_result",
     "data": {
      "text/plain": [
       "     星期   日       估计           日期     收盘     开盘      高      低      交易量     涨跌幅\n",
       "0     5   4  45.9900   2020年12月4日  45.78  46.47  46.60  45.11   46.12M  -1.53%\n",
       "1     4   3  46.4600   2020年12月3日  46.49  46.75  47.10  45.50   50.24M  -0.66%\n",
       "2     3   2  46.2725   2020年12月2日  46.80  46.00  47.03  45.26   61.99M   1.30%\n",
       "3     2   1  45.3850   2020年12月1日  46.20  44.40  46.55  44.39   78.07M   4.52%\n",
       "4     1  30  45.4625  2020年11月30日  44.20  45.85  47.77  44.03  115.36M  -3.60%\n",
       "..   ..  ..      ...          ...    ...    ...    ...    ...      ...     ...\n",
       "990   5  11  17.9975  2016年11月11日  18.03  17.95  18.08  17.93   27.63M   0.22%\n",
       "991   4  10  17.9975  2016年11月10日  17.99  17.95  18.11  17.94   27.12M   0.56%\n",
       "992   3   9  17.9350   2016年11月9日  17.89  18.00  18.08  17.77   34.24M  -0.56%\n",
       "993   2   8  17.9650   2016年11月8日  17.99  17.92  18.06  17.89   26.23M   0.45%\n",
       "994   1   7  17.9000   2016年11月7日  17.91  17.91  17.93  17.85   20.83M   0.06%\n",
       "\n",
       "[995 rows x 10 columns]"
      ],
      "text/html": "<div>\n<style scoped>\n    .dataframe tbody tr th:only-of-type {\n        vertical-align: middle;\n    }\n\n    .dataframe tbody tr th {\n        vertical-align: top;\n    }\n\n    .dataframe thead th {\n        text-align: right;\n    }\n</style>\n<table border=\"1\" class=\"dataframe\">\n  <thead>\n    <tr style=\"text-align: right;\">\n      <th></th>\n      <th>星期</th>\n      <th>日</th>\n      <th>估计</th>\n      <th>日期</th>\n      <th>收盘</th>\n      <th>开盘</th>\n      <th>高</th>\n      <th>低</th>\n      <th>交易量</th>\n      <th>涨跌幅</th>\n    </tr>\n  </thead>\n  <tbody>\n    <tr>\n      <th>0</th>\n      <td>5</td>\n      <td>4</td>\n      <td>45.9900</td>\n      <td>2020年12月4日</td>\n      <td>45.78</td>\n      <td>46.47</td>\n      <td>46.60</td>\n      <td>45.11</td>\n      <td>46.12M</td>\n      <td>-1.53%</td>\n    </tr>\n    <tr>\n      <th>1</th>\n      <td>4</td>\n      <td>3</td>\n      <td>46.4600</td>\n      <td>2020年12月3日</td>\n      <td>46.49</td>\n      <td>46.75</td>\n      <td>47.10</td>\n      <td>45.50</td>\n      <td>50.24M</td>\n      <td>-0.66%</td>\n    </tr>\n    <tr>\n      <th>2</th>\n      <td>3</td>\n      <td>2</td>\n      <td>46.2725</td>\n      <td>2020年12月2日</td>\n      <td>46.80</td>\n      <td>46.00</td>\n      <td>47.03</td>\n      <td>45.26</td>\n      <td>61.99M</td>\n      <td>1.30%</td>\n    </tr>\n    <tr>\n      <th>3</th>\n      <td>2</td>\n      <td>1</td>\n      <td>45.3850</td>\n      <td>2020年12月1日</td>\n      <td>46.20</td>\n      <td>44.40</td>\n      <td>46.55</td>\n      <td>44.39</td>\n      <td>78.07M</td>\n      <td>4.52%</td>\n    </tr>\n    <tr>\n      <th>4</th>\n      <td>1</td>\n      <td>30</td>\n      <td>45.4625</td>\n      <td>2020年11月30日</td>\n      <td>44.20</td>\n      <td>45.85</td>\n      <td>47.77</td>\n      <td>44.03</td>\n      <td>115.36M</td>\n      <td>-3.60%</td>\n    </tr>\n    <tr>\n      <th>...</th>\n      <td>...</td>\n      <td>...</td>\n      <td>...</td>\n      <td>...</td>\n      <td>...</td>\n      <td>...</td>\n      <td>...</td>\n      <td>...</td>\n      <td>...</td>\n      <td>...</td>\n    </tr>\n    <tr>\n      <th>990</th>\n      <td>5</td>\n      <td>11</td>\n      <td>17.9975</td>\n      <td>2016年11月11日</td>\n      <td>18.03</td>\n      <td>17.95</td>\n      <td>18.08</td>\n      <td>17.93</td>\n      <td>27.63M</td>\n      <td>0.22%</td>\n    </tr>\n    <tr>\n      <th>991</th>\n      <td>4</td>\n      <td>10</td>\n      <td>17.9975</td>\n      <td>2016年11月10日</td>\n      <td>17.99</td>\n      <td>17.95</td>\n      <td>18.11</td>\n      <td>17.94</td>\n      <td>27.12M</td>\n      <td>0.56%</td>\n    </tr>\n    <tr>\n      <th>992</th>\n      <td>3</td>\n      <td>9</td>\n      <td>17.9350</td>\n      <td>2016年11月9日</td>\n      <td>17.89</td>\n      <td>18.00</td>\n      <td>18.08</td>\n      <td>17.77</td>\n      <td>34.24M</td>\n      <td>-0.56%</td>\n    </tr>\n    <tr>\n      <th>993</th>\n      <td>2</td>\n      <td>8</td>\n      <td>17.9650</td>\n      <td>2016年11月8日</td>\n      <td>17.99</td>\n      <td>17.92</td>\n      <td>18.06</td>\n      <td>17.89</td>\n      <td>26.23M</td>\n      <td>0.45%</td>\n    </tr>\n    <tr>\n      <th>994</th>\n      <td>1</td>\n      <td>7</td>\n      <td>17.9000</td>\n      <td>2016年11月7日</td>\n      <td>17.91</td>\n      <td>17.91</td>\n      <td>17.93</td>\n      <td>17.85</td>\n      <td>20.83M</td>\n      <td>0.06%</td>\n    </tr>\n  </tbody>\n</table>\n<p>995 rows × 10 columns</p>\n</div>"
     },
     "metadata": {},
     "execution_count": 5
    }
   ],
   "source": [
    "def add_series():\n",
    "    if '星期' in data:\n",
    "        del data['星期']\n",
    "    if '日' in data:\n",
    "        del data['日']\n",
    "    wd_list = []\n",
    "    day_list = []\n",
    "    for each in range(len(data['日期'])):\n",
    "        test = data['日期'][each].replace('年','').replace('月','').replace('日','')\n",
    "        item = dt.datetime.strptime(test, \"%Y%m%d\").weekday() + 1\n",
    "        wd_list.append(item)\n",
    "        day_list.append(dt.datetime.strptime(test, \"%Y%m%d\").day)\n",
    "    data.insert(0,'星期',wd_list)\n",
    "    data.insert(1,'日',day_list)\n",
    "    if '估计' in data:\n",
    "        del data['估计']\n",
    "    es_list = []\n",
    "    for each in range(len(data['日期'])):\n",
    "        es_value=(data['收盘'][each]+data['开盘'][each]+data['高'][each]+data['低'][each])/4\n",
    "        es_list.append(es_value)\n",
    "    data.insert(2,'估计',es_list)\n",
    "add_series()\n",
    "data"
   ]
  },
  {
   "cell_type": "code",
   "execution_count": 15,
   "metadata": {
    "tags": []
   },
   "outputs": [
    {
     "output_type": "stream",
     "name": "stdout",
     "text": [
      "The time is set to the previous 110 trading days in dataset\n"
     ]
    }
   ],
   "source": [
    "def es_range():\n",
    "    while True:\n",
    "        try:\n",
    "            es = int(input('How many trading days(1~' + str(len(data['日期'])) +') need to be calculated until now?\\t'))\n",
    "            if es > len(data['日期']):\n",
    "                print('Out of range, re-enter')\n",
    "                continue\n",
    "            print('The time is set to the previous '+str(es)+' trading days in dataset')\n",
    "            return es\n",
    "        except:\n",
    "            print('Invalid input, re-enter')\n",
    "rng = es_range()"
   ]
  },
  {
   "cell_type": "code",
   "execution_count": 16,
   "metadata": {},
   "outputs": [
    {
     "output_type": "stream",
     "name": "stdout",
     "text": [
      "Invest once a week\nMonday    average price:   38.78602272727272\nTuesday   average price:   39.0240909090909\nWednesday average price:   38.86130434782608\nThursday  average price:   39.21440476190477\nFriday    average price:   39.00920454545455\n"
     ]
    }
   ],
   "source": [
    "## Invest once a week\n",
    "def week1():\n",
    "    week1 = [[],[],[],[],[]] ## [mon,tue,wed,thur,fri]\n",
    "    for each in range(rng):\n",
    "        if   data['星期'][each] == 1:\n",
    "            week1[0].append(data['估计'][each])\n",
    "        elif data['星期'][each] == 2:\n",
    "            week1[1].append(data['估计'][each])\n",
    "        elif data['星期'][each] == 3:\n",
    "            week1[2].append(data['估计'][each])\n",
    "        elif data['星期'][each] == 4:\n",
    "            week1[3].append(data['估计'][each])\n",
    "        elif data['星期'][each] == 5:\n",
    "            week1[4].append(data['估计'][each])\n",
    "    print('Invest once a week')\n",
    "    print('Monday    average price:   ' + str(np.mean(week1[0])))\n",
    "    print('Tuesday   average price:   ' + str(np.mean(week1[1])))\n",
    "    print('Wednesday average price:   ' + str(np.mean(week1[2])))\n",
    "    print('Thursday  average price:   ' + str(np.mean(week1[3])))\n",
    "    print('Friday    average price:   ' + str(np.mean(week1[4])))\n",
    "week1()"
   ]
  },
  {
   "cell_type": "code",
   "execution_count": 17,
   "metadata": {},
   "outputs": [
    {
     "output_type": "stream",
     "name": "stdout",
     "text": [
      "Invest every two weeks\nMonday    average price:   45.462500000000006\nTuesday   average price:   45.38499999999999\nWednesday average price:   46.8\nThursday  average price:   46.46\nFriday    average price:   45.989999999999995\n"
     ]
    }
   ],
   "source": [
    "## Invest every two weeks\n",
    "def week2():\n",
    "    week2 = [[],[],[],[],[],[0,0,0,0,0]] ## [mon,tue,wed,thur,fri,MARK] \n",
    "    for each in range(rng):\n",
    "        if   data['星期'][each] == 1 and week2[-1][0]%2 == 0:\n",
    "            week2[0].append(data['估计'][each])\n",
    "            week2[-1][0] += 1\n",
    "        elif data['星期'][each] == 2 and week2[-1][1]%2 == 0:\n",
    "            week2[1].append(data['估计'][each])\n",
    "            week2[-1][1] += 1\n",
    "        elif data['星期'][each] == 3 and week2[-1][2]%2 == 0:\n",
    "            week2[2].append(data['收盘'][each])\n",
    "            week2[-1][2] += 1\n",
    "        elif data['星期'][each] == 4 and week2[-1][3]%2 == 0:\n",
    "            week2[3].append(data['估计'][each])\n",
    "            week2[-1][3] += 1\n",
    "        elif data['星期'][each] == 5 and week2[-1][4]%2 == 0:\n",
    "            week2[4].append(data['估计'][each])\n",
    "            week2[-1][4] += 1\n",
    "    print('Invest every two weeks')\n",
    "    print('Monday    average price:   ' + str(np.mean(week2[0])))\n",
    "    print('Tuesday   average price:   ' + str(np.mean(week2[1])))\n",
    "    print('Wednesday average price:   ' + str(np.mean(week2[2])))\n",
    "    print('Thursday  average price:   ' + str(np.mean(week2[3])))\n",
    "    print('Friday    average price:   ' + str(np.mean(week2[4])))\n",
    "week2()"
   ]
  },
  {
   "cell_type": "code",
   "execution_count": 18,
   "metadata": {},
   "outputs": [
    {
     "output_type": "stream",
     "name": "stdout",
     "text": [
      "Invest once a month\n1st average price:   39.01\n2nd average price:   39.65625\n3rd average price:   39.1745\n4th average price:   40.2575\n5th average price:   39.64375\n6th average price:   39.37666666666667\n7th average price:   38.42416666666667\n8th average price:   39.081250000000004\n9th average price:   39.259375000000006\n10th average price:   39.07125\n11st average price:   39.73833333333334\n12nd average price:   39.51166666666666\n13rd average price:   38.80312500000001\n14th average price:   37.415\n15th average price:   37.54\n16th average price:   39.08562500000001\n17th average price:   39.005624999999995\n18th average price:   40.494166666666665\n19th average price:   41.2275\n20th average price:   39.83500000000001\n21st average price:   38.5225\n22nd average price:   38.651666666666664\n23rd average price:   40.00937499999999\n24th average price:   37.727\n25th average price:   39.954166666666666\n26th average price:   41.105\n27th average price:   39.410624999999996\n28th average price:   37.453125\n"
     ]
    }
   ],
   "source": [
    "## Invest once a month\n",
    "def month1():\n",
    "    month1 = [[],[],[],[],[],[],[],[],[],[],[],[],[],[],[],[],[],[],[],[],[],[],[],[],[],[],[],[]]\n",
    "    for each in range(rng):\n",
    "        if   data['日'][each] == 1:\n",
    "            month1[0].append(data['估计'][each])\n",
    "        elif data['日'][each] == 2:\n",
    "            month1[1].append(data['估计'][each])\n",
    "        elif data['日'][each] == 3:\n",
    "            month1[2].append(data['估计'][each])\n",
    "        elif data['日'][each] == 4:\n",
    "            month1[3].append(data['估计'][each])\n",
    "        elif data['日'][each] == 5:\n",
    "            month1[4].append(data['估计'][each])\n",
    "        elif data['日'][each] == 6:\n",
    "            month1[5].append(data['估计'][each])\n",
    "        elif data['日'][each] == 7:\n",
    "            month1[6].append(data['估计'][each])\n",
    "        elif data['日'][each] == 8:\n",
    "            month1[7].append(data['估计'][each])\n",
    "        elif data['日'][each] == 9:\n",
    "            month1[8].append(data['估计'][each])\n",
    "        elif data['日'][each] == 10:\n",
    "            month1[9].append(data['估计'][each])\n",
    "        elif data['日'][each] == 11:\n",
    "            month1[10].append(data['估计'][each])\n",
    "        elif data['日'][each] == 12:\n",
    "            month1[11].append(data['估计'][each])\n",
    "        elif data['日'][each] == 13:\n",
    "            month1[12].append(data['估计'][each])\n",
    "        elif data['日'][each] == 14:\n",
    "            month1[13].append(data['估计'][each])\n",
    "        elif data['日'][each] == 15:\n",
    "            month1[14].append(data['估计'][each])\n",
    "        elif data['日'][each] == 16:\n",
    "            month1[15].append(data['估计'][each])\n",
    "        elif data['日'][each] == 17:\n",
    "            month1[16].append(data['估计'][each])\n",
    "        elif data['日'][each] == 18:\n",
    "            month1[17].append(data['估计'][each])\n",
    "        elif data['日'][each] == 19:\n",
    "            month1[18].append(data['估计'][each])\n",
    "        elif data['日'][each] == 20:\n",
    "            month1[19].append(data['估计'][each])\n",
    "        elif data['日'][each] == 21:\n",
    "            month1[20].append(data['估计'][each])\n",
    "        elif data['日'][each] == 22:\n",
    "            month1[21].append(data['估计'][each])\n",
    "        elif data['日'][each] == 23:\n",
    "            month1[22].append(data['估计'][each])\n",
    "        elif data['日'][each] == 24:\n",
    "            month1[23].append(data['估计'][each])\n",
    "        elif data['日'][each] == 25:\n",
    "            month1[24].append(data['估计'][each])\n",
    "        elif data['日'][each] == 26:\n",
    "            month1[25].append(data['估计'][each])\n",
    "        elif data['日'][each] == 27:\n",
    "            month1[26].append(data['估计'][each])\n",
    "        elif data['日'][each] == 28:\n",
    "            month1[27].append(data['估计'][each])\n",
    "    print('Invest once a month')\n",
    "    print('1st average price:   ' + str(np.mean(month1[0])))\n",
    "    print('2nd average price:   ' + str(np.mean(month1[1])))\n",
    "    print('3rd average price:   ' + str(np.mean(month1[2])))\n",
    "    print('4th average price:   ' + str(np.mean(month1[3])))\n",
    "    print('5th average price:   ' + str(np.mean(month1[4])))\n",
    "    print('6th average price:   ' + str(np.mean(month1[5])))\n",
    "    print('7th average price:   ' + str(np.mean(month1[6])))\n",
    "    print('8th average price:   ' + str(np.mean(month1[7])))\n",
    "    print('9th average price:   ' + str(np.mean(month1[8])))\n",
    "    print('10th average price:   ' + str(np.mean(month1[9])))\n",
    "    print('11st average price:   ' + str(np.mean(month1[10])))\n",
    "    print('12nd average price:   ' + str(np.mean(month1[11])))\n",
    "    print('13rd average price:   ' + str(np.mean(month1[12])))\n",
    "    print('14th average price:   ' + str(np.mean(month1[13])))\n",
    "    print('15th average price:   ' + str(np.mean(month1[14])))\n",
    "    print('16th average price:   ' + str(np.mean(month1[15])))\n",
    "    print('17th average price:   ' + str(np.mean(month1[16])))\n",
    "    print('18th average price:   ' + str(np.mean(month1[17])))\n",
    "    print('19th average price:   ' + str(np.mean(month1[18])))\n",
    "    print('20th average price:   ' + str(np.mean(month1[19])))\n",
    "    print('21st average price:   ' + str(np.mean(month1[20])))\n",
    "    print('22nd average price:   ' + str(np.mean(month1[21])))\n",
    "    print('23rd average price:   ' + str(np.mean(month1[22])))\n",
    "    print('24th average price:   ' + str(np.mean(month1[23])))\n",
    "    print('25th average price:   ' + str(np.mean(month1[24])))\n",
    "    print('26th average price:   ' + str(np.mean(month1[25])))\n",
    "    print('27th average price:   ' + str(np.mean(month1[26])))\n",
    "    print('28th average price:   ' + str(np.mean(month1[27])))\n",
    "month1()"
   ]
  },
  {
   "cell_type": "code",
   "execution_count": 19,
   "metadata": {},
   "outputs": [
    {
     "output_type": "stream",
     "name": "stdout",
     "text": [
      "Invest once a day\nDaily average price:   38.97579545454545\n"
     ]
    }
   ],
   "source": [
    "## Invest once a day\n",
    "def day1():\n",
    "    day1 = []\n",
    "    for each in range(rng):\n",
    "        day1.append(data['估计'][each])\n",
    "    print('Invest once a day')\n",
    "    print('Daily average price:   ' + str(np.mean(day1)))\n",
    "day1()"
   ]
  },
  {
   "cell_type": "code",
   "execution_count": null,
   "metadata": {},
   "outputs": [],
   "source": []
  }
 ]
}