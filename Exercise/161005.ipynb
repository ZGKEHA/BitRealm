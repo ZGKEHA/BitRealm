{
 "metadata": {
  "language_info": {
   "codemirror_mode": {
    "name": "ipython",
    "version": 3
   },
   "file_extension": ".py",
   "mimetype": "text/x-python",
   "name": "python",
   "nbconvert_exporter": "python",
   "pygments_lexer": "ipython3",
   "version": "3.8.5-final"
  },
  "orig_nbformat": 2,
  "kernelspec": {
   "name": "python3",
   "display_name": "Python 3"
  }
 },
 "nbformat": 4,
 "nbformat_minor": 2,
 "cells": [
  {
   "cell_type": "code",
   "execution_count": 66,
   "metadata": {},
   "outputs": [
    {
     "output_type": "stream",
     "name": "stdout",
     "text": [
      "Valid path, the head of file is shown as below\n"
     ]
    },
    {
     "output_type": "execute_result",
     "data": {
      "text/plain": [
       "            日期     收盘     开盘      高      低     涨跌幅\n",
       "0   2020年12月4日  3.412  3.412  3.412  3.412  -0.11%\n",
       "1   2020年12月3日  3.416  3.403  3.416  3.403  -0.08%\n",
       "2   2020年12月2日  3.418  3.393  3.418  3.393   0.13%\n",
       "3   2020年12月1日  3.414  3.393  3.414  3.393   1.68%\n",
       "4  2020年11月30日  3.358  3.355  3.358  3.355  -0.12%"
      ],
      "text/html": "<div>\n<style scoped>\n    .dataframe tbody tr th:only-of-type {\n        vertical-align: middle;\n    }\n\n    .dataframe tbody tr th {\n        vertical-align: top;\n    }\n\n    .dataframe thead th {\n        text-align: right;\n    }\n</style>\n<table border=\"1\" class=\"dataframe\">\n  <thead>\n    <tr style=\"text-align: right;\">\n      <th></th>\n      <th>日期</th>\n      <th>收盘</th>\n      <th>开盘</th>\n      <th>高</th>\n      <th>低</th>\n      <th>涨跌幅</th>\n    </tr>\n  </thead>\n  <tbody>\n    <tr>\n      <th>0</th>\n      <td>2020年12月4日</td>\n      <td>3.412</td>\n      <td>3.412</td>\n      <td>3.412</td>\n      <td>3.412</td>\n      <td>-0.11%</td>\n    </tr>\n    <tr>\n      <th>1</th>\n      <td>2020年12月3日</td>\n      <td>3.416</td>\n      <td>3.403</td>\n      <td>3.416</td>\n      <td>3.403</td>\n      <td>-0.08%</td>\n    </tr>\n    <tr>\n      <th>2</th>\n      <td>2020年12月2日</td>\n      <td>3.418</td>\n      <td>3.393</td>\n      <td>3.418</td>\n      <td>3.393</td>\n      <td>0.13%</td>\n    </tr>\n    <tr>\n      <th>3</th>\n      <td>2020年12月1日</td>\n      <td>3.414</td>\n      <td>3.393</td>\n      <td>3.414</td>\n      <td>3.393</td>\n      <td>1.68%</td>\n    </tr>\n    <tr>\n      <th>4</th>\n      <td>2020年11月30日</td>\n      <td>3.358</td>\n      <td>3.355</td>\n      <td>3.358</td>\n      <td>3.355</td>\n      <td>-0.12%</td>\n    </tr>\n  </tbody>\n</table>\n</div>"
     },
     "metadata": {},
     "execution_count": 66
    }
   ],
   "source": [
    "import pandas as pd\n",
    "import datetime as dt\n",
    "import numpy as np\n",
    "def input_path():\n",
    "    while True:\n",
    "        try:\n",
    "            csv_path = input('The path of the historical data is:\\t')\n",
    "            data = pd.read_csv(csv_path)\n",
    "            break\n",
    "        except:\n",
    "            print('Invalid path, try again')\n",
    "    print('Valid path, the head of file is shown as below')\n",
    "    return data\n",
    "data = input_path()\n",
    "data.head()"
   ]
  },
  {
   "cell_type": "code",
   "execution_count": 67,
   "metadata": {
    "tags": []
   },
   "outputs": [
    {
     "output_type": "execute_result",
     "data": {
      "text/plain": [
       "            日期     收盘     开盘      高      低     涨跌幅\n",
       "0   2020年12月4日  3.412  3.412  3.412  3.412  -0.11%\n",
       "1   2020年12月3日  3.416  3.403  3.416  3.403  -0.08%\n",
       "2   2020年12月2日  3.418  3.393  3.418  3.393   0.13%\n",
       "3   2020年12月1日  3.414  3.393  3.414  3.393   1.68%\n",
       "4  2020年11月30日  3.358  3.355  3.358  3.355  -0.12%"
      ],
      "text/html": "<div>\n<style scoped>\n    .dataframe tbody tr th:only-of-type {\n        vertical-align: middle;\n    }\n\n    .dataframe tbody tr th {\n        vertical-align: top;\n    }\n\n    .dataframe thead th {\n        text-align: right;\n    }\n</style>\n<table border=\"1\" class=\"dataframe\">\n  <thead>\n    <tr style=\"text-align: right;\">\n      <th></th>\n      <th>日期</th>\n      <th>收盘</th>\n      <th>开盘</th>\n      <th>高</th>\n      <th>低</th>\n      <th>涨跌幅</th>\n    </tr>\n  </thead>\n  <tbody>\n    <tr>\n      <th>0</th>\n      <td>2020年12月4日</td>\n      <td>3.412</td>\n      <td>3.412</td>\n      <td>3.412</td>\n      <td>3.412</td>\n      <td>-0.11%</td>\n    </tr>\n    <tr>\n      <th>1</th>\n      <td>2020年12月3日</td>\n      <td>3.416</td>\n      <td>3.403</td>\n      <td>3.416</td>\n      <td>3.403</td>\n      <td>-0.08%</td>\n    </tr>\n    <tr>\n      <th>2</th>\n      <td>2020年12月2日</td>\n      <td>3.418</td>\n      <td>3.393</td>\n      <td>3.418</td>\n      <td>3.393</td>\n      <td>0.13%</td>\n    </tr>\n    <tr>\n      <th>3</th>\n      <td>2020年12月1日</td>\n      <td>3.414</td>\n      <td>3.393</td>\n      <td>3.414</td>\n      <td>3.393</td>\n      <td>1.68%</td>\n    </tr>\n    <tr>\n      <th>4</th>\n      <td>2020年11月30日</td>\n      <td>3.358</td>\n      <td>3.355</td>\n      <td>3.358</td>\n      <td>3.355</td>\n      <td>-0.12%</td>\n    </tr>\n  </tbody>\n</table>\n</div>"
     },
     "metadata": {},
     "execution_count": 67
    }
   ],
   "source": [
    "def check_series():\n",
    "    if '日期' in data:\n",
    "        pass\n",
    "    else:\n",
    "        while True:\n",
    "            date_series = input('The date series is named:')\n",
    "            if date_series in data:\n",
    "                data.rename(columns={date_series:'日期'},inplace=True)\n",
    "                print(\"Match successfully, renamed to '日期'\")\n",
    "                break\n",
    "            else:\n",
    "                print('Match failed, re-enter')\n",
    "    if '收盘' in data:\n",
    "        pass\n",
    "    else:\n",
    "        while True:\n",
    "            price_series = input('The price series is named:')\n",
    "            if price_series in data:\n",
    "                data.rename(columns={price_series:'收盘'},inplace=True)\n",
    "                print(\"Match successfully, renamed to '收盘'\")\n",
    "                break\n",
    "            else:\n",
    "                print('Match failed, re-enter')\n",
    "    if '开盘' in data:\n",
    "        pass\n",
    "    else:\n",
    "        while True:\n",
    "            open_series = input('The open series is named:')\n",
    "            if open_series in data:\n",
    "                data.rename(columns={open_series:'开盘'},inplace=True)\n",
    "                print(\"Match successfully, renamed to '收盘'\")\n",
    "                break\n",
    "            else:\n",
    "                print('Match failed, re-enter')\n",
    "    if '高' in data:\n",
    "        pass\n",
    "    else:\n",
    "        while True:\n",
    "            high_series = input('The high series is named:')\n",
    "            if high_series in data:\n",
    "                data.rename(columns={high_series:'高'},inplace=True)\n",
    "                print(\"Match successfully, renamed to '收盘'\")\n",
    "                break\n",
    "            else:\n",
    "                print('Match failed, re-enter')\n",
    "    if '低' in data:\n",
    "        pass\n",
    "    else:\n",
    "        while True:\n",
    "            low_series = input('The low series is named:')\n",
    "            if low_series in data:\n",
    "                data.rename(columns={low_series:'低'},inplace=True)\n",
    "                print(\"Match successfully, renamed to '收盘'\")\n",
    "                break\n",
    "            else:\n",
    "                print('Match failed, re-enter')\n",
    "    if '涨跌幅' in data:\n",
    "        pass\n",
    "    else:\n",
    "        while True:\n",
    "            change_series = input('The change series is named:')\n",
    "            if date_series in data:\n",
    "                data.rename(columns={date_series:'涨跌幅'},inplace=True)\n",
    "                print(\"Match successfully, renamed to '收盘'\")\n",
    "                break\n",
    "            else:\n",
    "                print('Match failed, re-enter')\n",
    "check_series()\n",
    "data.head()"
   ]
  },
  {
   "cell_type": "code",
   "execution_count": 68,
   "metadata": {},
   "outputs": [
    {
     "output_type": "execute_result",
     "data": {
      "text/plain": [
       "   星期           日期     收盘     开盘      高      低     涨跌幅\n",
       "0   5   2020年12月4日  3.412  3.412  3.412  3.412  -0.11%\n",
       "1   4   2020年12月3日  3.416  3.403  3.416  3.403  -0.08%\n",
       "2   3   2020年12月2日  3.418  3.393  3.418  3.393   0.13%\n",
       "3   2   2020年12月1日  3.414  3.393  3.414  3.393   1.68%\n",
       "4   1  2020年11月30日  3.358  3.355  3.358  3.355  -0.12%"
      ],
      "text/html": "<div>\n<style scoped>\n    .dataframe tbody tr th:only-of-type {\n        vertical-align: middle;\n    }\n\n    .dataframe tbody tr th {\n        vertical-align: top;\n    }\n\n    .dataframe thead th {\n        text-align: right;\n    }\n</style>\n<table border=\"1\" class=\"dataframe\">\n  <thead>\n    <tr style=\"text-align: right;\">\n      <th></th>\n      <th>星期</th>\n      <th>日期</th>\n      <th>收盘</th>\n      <th>开盘</th>\n      <th>高</th>\n      <th>低</th>\n      <th>涨跌幅</th>\n    </tr>\n  </thead>\n  <tbody>\n    <tr>\n      <th>0</th>\n      <td>5</td>\n      <td>2020年12月4日</td>\n      <td>3.412</td>\n      <td>3.412</td>\n      <td>3.412</td>\n      <td>3.412</td>\n      <td>-0.11%</td>\n    </tr>\n    <tr>\n      <th>1</th>\n      <td>4</td>\n      <td>2020年12月3日</td>\n      <td>3.416</td>\n      <td>3.403</td>\n      <td>3.416</td>\n      <td>3.403</td>\n      <td>-0.08%</td>\n    </tr>\n    <tr>\n      <th>2</th>\n      <td>3</td>\n      <td>2020年12月2日</td>\n      <td>3.418</td>\n      <td>3.393</td>\n      <td>3.418</td>\n      <td>3.393</td>\n      <td>0.13%</td>\n    </tr>\n    <tr>\n      <th>3</th>\n      <td>2</td>\n      <td>2020年12月1日</td>\n      <td>3.414</td>\n      <td>3.393</td>\n      <td>3.414</td>\n      <td>3.393</td>\n      <td>1.68%</td>\n    </tr>\n    <tr>\n      <th>4</th>\n      <td>1</td>\n      <td>2020年11月30日</td>\n      <td>3.358</td>\n      <td>3.355</td>\n      <td>3.358</td>\n      <td>3.355</td>\n      <td>-0.12%</td>\n    </tr>\n  </tbody>\n</table>\n</div>"
     },
     "metadata": {},
     "execution_count": 68
    }
   ],
   "source": [
    "if '星期' in data:\n",
    "    del data['星期']\n",
    "wd_list = []\n",
    "for each in range(len(data['日期'])):\n",
    "    test = data['日期'][each].replace('年','').replace('月','').replace('日','')\n",
    "    item = dt.datetime.strptime(test, \"%Y%m%d\").weekday() + 1\n",
    "    wd_list.append(item)\n",
    "data.insert(0,'星期',wd_list)\n",
    "data.head()"
   ]
  },
  {
   "cell_type": "code",
   "execution_count": null,
   "metadata": {},
   "outputs": [],
   "source": []
  },
  {
   "cell_type": "code",
   "execution_count": 70,
   "metadata": {},
   "outputs": [
    {
     "output_type": "stream",
     "name": "stdout",
     "text": [
      "Daily average price:   3.2930909090909095\n"
     ]
    }
   ],
   "source": [
    "day = []\n",
    "for each in range(len(data['星期'])-657):\n",
    "    day.append(data['收盘'][each])\n",
    "print('Daily average price:   ' + str(np.mean(day)))"
   ]
  },
  {
   "cell_type": "code",
   "execution_count": 73,
   "metadata": {},
   "outputs": [
    {
     "output_type": "stream",
     "name": "stdout",
     "text": [
      "Monday    average price:   3.2902727272727277\nTuesday   average price:   3.3017272727272724\nWednesday average price:   3.295772727272728\nThursday  average price:   3.286818181818182\nFriday    average price:   3.2908636363636363\n\nSaturday  average price:   nan\nSunday    average price:   nan\n"
     ]
    }
   ],
   "source": [
    "day = []\n",
    "mon = []\n",
    "tue = []\n",
    "wed = []\n",
    "thu = []\n",
    "fri = []\n",
    "sat = []\n",
    "sun = []\n",
    "for each in range(len(data['星期'])-657):\n",
    "    if   data['星期'][each] == 1:\n",
    "        mon.append(data['收盘'][each])\n",
    "    elif data['星期'][each] == 2:\n",
    "        tue.append(data['收盘'][each])\n",
    "    elif data['星期'][each] == 3:\n",
    "        wed.append(data['收盘'][each])\n",
    "    elif data['星期'][each] == 4:\n",
    "        thu.append(data['收盘'][each])\n",
    "    elif data['星期'][each] == 5:\n",
    "        fri.append(data['收盘'][each])\n",
    "    elif data['星期'][each] == 6:\n",
    "        sat.append(data['收盘'][each])\n",
    "    elif data['星期'][each] == 7:\n",
    "        sun.append(data['收盘'][each])\n",
    "print('Monday    average price:   ' + str(np.mean(mon)))\n",
    "print('Tuesday   average price:   ' + str(np.mean(tue)))\n",
    "print('Wednesday average price:   ' + str(np.mean(wed)))\n",
    "print('Thursday  average price:   ' + str(np.mean(thu)))\n",
    "print('Friday    average price:   ' + str(np.mean(fri)))\n",
    "print()\n",
    "print('Saturday  average price:   ' + str(np.mean(sat)))\n",
    "print('Sunday    average price:   ' + str(np.mean(sun)))"
   ]
  },
  {
   "cell_type": "code",
   "execution_count": 74,
   "metadata": {},
   "outputs": [
    {
     "output_type": "stream",
     "name": "stdout",
     "text": [
      "Monday    average price:   3.358\nTuesday   average price:   3.4139999999999997\nWednesday average price:   3.418\nThursday  average price:   3.4160000000000004\nFriday    average price:   3.412\n\nSaturday  average price:   nan\nSunday    average price:   nan\n"
     ]
    }
   ],
   "source": [
    "mon = []\n",
    "tue = []\n",
    "wed = []\n",
    "thu = []\n",
    "fri = []\n",
    "sat = []\n",
    "sun = []\n",
    "a = 0\n",
    "b = 0\n",
    "c = 0\n",
    "d = 0\n",
    "e = 0\n",
    "f = 0\n",
    "g = 0\n",
    "for each in range(len(data['星期'])-657):\n",
    "    if   data['星期'][each] == 1 and a%2 == 0:\n",
    "        mon.append(data['收盘'][each])\n",
    "        a += 1\n",
    "    elif data['星期'][each] == 2 and b%2 == 0:\n",
    "        tue.append(data['收盘'][each])\n",
    "        b += 1\n",
    "    elif data['星期'][each] == 3 and c%2 == 0:\n",
    "        wed.append(data['收盘'][each])\n",
    "        c += 1\n",
    "    elif data['星期'][each] == 4 and d%2 == 0:\n",
    "        thu.append(data['收盘'][each])\n",
    "        d += 1\n",
    "    elif data['星期'][each] == 5 and e%2 == 0:\n",
    "        fri.append(data['收盘'][each])\n",
    "        e += 1\n",
    "    elif data['星期'][each] == 6 and f%2 == 0:\n",
    "        sat.append(data['收盘'][each])\n",
    "        f += 1\n",
    "    elif data['星期'][each] == 7 and g%2 == 0:\n",
    "        sun.append(data['收盘'][each])\n",
    "        g += 1\n",
    "print('Monday    average price:   ' + str(np.mean(mon)))\n",
    "print('Tuesday   average price:   ' + str(np.mean(tue)))\n",
    "print('Wednesday average price:   ' + str(np.mean(wed)))\n",
    "print('Thursday  average price:   ' + str(np.mean(thu)))\n",
    "print('Friday    average price:   ' + str(np.mean(fri)))\n",
    "print()\n",
    "print('Saturday  average price:   ' + str(np.mean(sat)))\n",
    "print('Sunday    average price:   ' + str(np.mean(sun)))"
   ]
  },
  {
   "cell_type": "code",
   "execution_count": null,
   "metadata": {},
   "outputs": [],
   "source": [
    "mon = []\n",
    "tue = []\n",
    "wed = []\n",
    "thu = []\n",
    "fri = []\n",
    "sat = []\n",
    "sun = []\n",
    "a = 0\n",
    "b = 0\n",
    "c = 0\n",
    "d = 0\n",
    "e = 0\n",
    "f = 0\n",
    "g = 0\n",
    "for each in range(len(data['星期'])-657):\n",
    "    if   data['星期'][each] == 1 and a%4 == 0:\n",
    "        mon.append(data['收盘'][each])\n",
    "        a += 1\n",
    "    elif data['星期'][each] == 2 and b%4 == 0:\n",
    "        tue.append(data['收盘'][each])\n",
    "        b += 1\n",
    "    elif data['星期'][each] == 3 and c%4 == 0:\n",
    "        wed.append(data['收盘'][each])\n",
    "        c += 1\n",
    "    elif data['星期'][each] == 4 and d%4 == 0:\n",
    "        thu.append(data['收盘'][each])\n",
    "        d += 1\n",
    "    elif data['星期'][each] == 5 and e%4 == 0:\n",
    "        fri.append(data['收盘'][each])\n",
    "        e += 1\n",
    "    elif data['星期'][each] == 6 and f%4 == 0:\n",
    "        sat.append(data['收盘'][each])\n",
    "        f += 1\n",
    "    elif data['星期'][each] == 7 and g%4 == 0:\n",
    "        sun.append(data['收盘'][each])\n",
    "        g += 1\n",
    "print('Monday    average:   ' + str(np.mean(mon)))\n",
    "print('Tuesday   average:   ' + str(np.mean(tue)))\n",
    "print('Wednesday average:   ' + str(np.mean(wed)))\n",
    "print('Thursday  average:   ' + str(np.mean(thu)))\n",
    "print('Friday    average:   ' + str(np.mean(fri)))\n",
    "print()\n",
    "print('Saturday  average:   ' + str(np.mean(sat)))\n",
    "print('Sunday    average:   ' + str(np.mean(sun)))"
   ]
  }
 ]
}